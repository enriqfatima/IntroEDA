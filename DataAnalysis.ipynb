{
 "cells": [
  {
   "cell_type": "code",
   "execution_count": null,
   "id": "dfb478fb",
   "metadata": {},
   "outputs": [],
   "source": [
    "# Imports \n",
    "%matplotlib inline\n",
    "\n",
    "import numpy as np\n",
    "import pandas as pd\n",
    "import matplotlib.pyplot as plt\n",
    "\n",
    "import seaborn as sns\n",
    "sns.set()\n",
    "sns.set_context('talk')\n",
    "\n",
    "import warnings\n",
    "warnings.filterwarnings('ignore')\n",
    "\n",
    "import patsy\n",
    "import statsmodels.api as sm\n",
    "import scipy.stats as stats\n",
    "from scipy.stats import ttest_ind, chisquare, normaltest"
   ]
  },
  {
   "cell_type": "markdown",
   "id": "87cecdd7",
   "metadata": {},
   "source": [
    "## Setup\n",
    "\n",
    "Data: the responses collected from a previous survery of the COGS 108 class. \n",
    "- There are 416 observations in the data, covering 10 different 'features'.\n",
    "\n",
    "Research Question: Do students in different majors have different heights?\n",
    "\n",
    "Background: Physical height has previously shown to correlate with career choice, and career success. More recently it has been demonstrated that these correlations can actually be explained by height in high school, as opposed to height in adulthood (1). It is currently unclear whether height correlates with choice of major in university. \n",
    "\n",
    "Reference: 1) https://www.sas.upenn.edu/~apostlew/paper/pdf/short.pdf\n",
    "\n",
    "Hypothesis: We hypothesize that there will be a relation between height and chosen major. "
   ]
  },
  {
   "cell_type": "code",
   "execution_count": null,
   "id": "e5388b6b",
   "metadata": {},
   "outputs": [],
   "source": [
    "# your code here\n",
    "df = pd.read_csv('COGS108_IntroQuestionnaireData.csv')\n",
    "df.shape\n"
   ]
  },
  {
   "cell_type": "markdown",
   "id": "f0140430",
   "metadata": {},
   "source": [
    "Let's checkout the data: "
   ]
  },
  {
   "cell_type": "code",
   "execution_count": null,
   "id": "772c6530",
   "metadata": {},
   "outputs": [],
   "source": [
    "df.head(5)"
   ]
  },
  {
   "cell_type": "code",
   "execution_count": null,
   "id": "d8502e5e",
   "metadata": {},
   "outputs": [],
   "source": [
    "# Renaming the columns of the dataframe\n",
    "df.columns = ['timestamp', 'year', 'major', 'age', 'gender', 'height',\n",
    "              'weight', 'eye_color', 'born_in_CA', 'favorite_icecream']"
   ]
  },
  {
   "cell_type": "code",
   "execution_count": null,
   "id": "8c053a93",
   "metadata": {},
   "outputs": [],
   "source": [
    "df.isnull().head(5)"
   ]
  },
  {
   "cell_type": "code",
   "execution_count": null,
   "id": "5493b858",
   "metadata": {},
   "outputs": [],
   "source": [
    "rows_to_drop = df[df.isnull().any(axis=1)]\n",
    "rows_to_drop.shape"
   ]
  },
  {
   "cell_type": "code",
   "execution_count": null,
   "id": "61b02484",
   "metadata": {},
   "outputs": [],
   "source": [
    "rows_to_drop"
   ]
  },
  {
   "cell_type": "code",
   "execution_count": null,
   "id": "2551a96a",
   "metadata": {},
   "outputs": [],
   "source": [
    "df = df.dropna(subset=['major', 'height', 'gender', 'age']) #how = 'any', inplace = True)\n",
    "df.shape"
   ]
  },
  {
   "cell_type": "code",
   "execution_count": null,
   "id": "c146ae24",
   "metadata": {},
   "outputs": [],
   "source": [
    "def example_standardize_function(str_in):\n",
    "    '''Standardize data to the question 'what is your favorite major python version?'\n",
    "    \n",
    "    Parameters\n",
    "    ----------\n",
    "    str_in : string\n",
    "        A provided answer.\n",
    "        \n",
    "    Returns\n",
    "    -------\n",
    "    int_out : int or np.nan\n",
    "        A standardized integer response.\n",
    "    '''\n",
    "    \n",
    "    # Make the input all lowercase\n",
    "    str_in = str_in.lower()\n",
    "    \n",
    "    # Drop all whitespace\n",
    "    str_in = str_in.strip()\n",
    "    \n",
    "    # Replace things (and then strip again afterwords)\n",
    "    # Note that the 'replace' replaces the first argument, with the second\n",
    "    # The first argument does not need to be present in the string,\n",
    "    # if it's not there 'replace' does nothing (but does not error), so the code moves on.\n",
    "    str_in = str_in.replace('version', '')\n",
    "    str_in = str_in.replace('python', '')\n",
    "    str_in = str_in.strip()\n",
    "    \n",
    "    # Cast to integer, if what's left seems appropriate\n",
    "    if str_in.isnumeric() and len(str_in) == 1:\n",
    "        out = int(str_in)\n",
    "    # Otherwise, consider input was probably ill-formed, return nan\n",
    "    else: \n",
    "        out = np.nan\n",
    "    \n",
    "    return out\n",
    "\n",
    "# Check how this function help standardize data:\n",
    "# Example possible answers to the question 'What is your favourite major version of Python':\n",
    "print('INPUT', '\\t\\t-\\t', 'OUTPUT')\n",
    "for inp in ['version 3', '42', '2', 'python 3', 'nonsense-lolz']:\n",
    "    print('{:10s} \\t-\\t {:1.0f}'.format(inp, example_standardize_function(inp)))"
   ]
  },
  {
   "cell_type": "markdown",
   "id": "425ad453",
   "metadata": {},
   "source": [
    "Below, we can observe the majors: "
   ]
  },
  {
   "cell_type": "code",
   "execution_count": null,
   "id": "b5904d97",
   "metadata": {},
   "outputs": [],
   "source": [
    "df['major'].unique()"
   ]
  },
  {
   "cell_type": "code",
   "execution_count": null,
   "id": "486d92a9",
   "metadata": {},
   "outputs": [],
   "source": [
    "def standardize_major(string):\n",
    "    \n",
    "    string = string.lower()\n",
    "    string = string.strip()\n",
    "    \n",
    "    if 'cog' in string:\n",
    "        output = 'COGSCI'\n",
    "    elif 'computer' in string:\n",
    "        output = 'COMPSCI'\n",
    "    elif 'cs' in string:\n",
    "        output = 'COMPSCI'\n",
    "    elif 'math' in string:\n",
    "        output = 'MATH'\n",
    "    elif 'electrical' in string:\n",
    "        output = 'ECE'\n",
    "    elif 'bio' in string:\n",
    "        output = 'BIO'\n",
    "    elif 'chem' in string:\n",
    "        output = 'CHEM'\n",
    "        \n",
    "    # Otherwise, if uncaught - keep as is\n",
    "    else:\n",
    "        output = string\n",
    "    \n",
    "    return output"
   ]
  },
  {
   "cell_type": "code",
   "execution_count": null,
   "id": "9374ba74",
   "metadata": {},
   "outputs": [],
   "source": [
    "df['major'] = df['major'].apply(standardize_major)"
   ]
  },
  {
   "cell_type": "code",
   "execution_count": null,
   "id": "16575f68",
   "metadata": {},
   "outputs": [],
   "source": [
    "df['major'].unique()"
   ]
  },
  {
   "cell_type": "markdown",
   "id": "2eea5362",
   "metadata": {},
   "source": [
    "Now, we want to standarize gender responses: "
   ]
  },
  {
   "cell_type": "code",
   "execution_count": null,
   "id": "6a67ad1c",
   "metadata": {},
   "outputs": [],
   "source": [
    "df['gender'].value_counts()"
   ]
  },
  {
   "cell_type": "code",
   "execution_count": null,
   "id": "438c4eea",
   "metadata": {},
   "outputs": [],
   "source": [
    "def standardize_gender(gender):\n",
    "    \n",
    "    print(gender)\n",
    "    string = gender\n",
    "    # Make the input all lowercase\n",
    "    string = string.lower()\n",
    "    \n",
    "\n",
    "    string = string.strip()\n",
    "    \n",
    "    if 'female' in string:\n",
    "        output = 'female'\n",
    "    elif 'f' in string:\n",
    "        output = 'female'\n",
    "    elif 'woman' in string:\n",
    "        output = 'female'\n",
    "    elif 'famale' in string:\n",
    "        output = 'female'\n",
    "    elif 'women' in string:\n",
    "        output = 'female'\n",
    "    elif 'male' in string:\n",
    "        output = 'male'\n",
    "    elif 'm' in string:\n",
    "        output = 'male'\n",
    "    elif 'man' in string:\n",
    "        output = 'male'\n",
    "    elif 'men' in string:\n",
    "        output = 'male'\n",
    "    elif 'nonbinary' in string:\n",
    "        output = 'nonbinary_or_trans'\n",
    "    elif 'transgender' in string:\n",
    "        output = 'nonbinary_or_trans'\n",
    "    # Otherwise, if uncaught - keep as is\n",
    "    else:\n",
    "        output = np.nan\n",
    "    \n",
    "    return output"
   ]
  },
  {
   "cell_type": "code",
   "execution_count": null,
   "id": "bdd1004a",
   "metadata": {},
   "outputs": [],
   "source": [
    "#df['gender']\n",
    "df['gender'] = df['gender'].apply(standardize_gender)\n",
    "df = df.dropna(subset = ['gender'])"
   ]
  },
  {
   "cell_type": "code",
   "execution_count": null,
   "id": "c5f3fa7d",
   "metadata": {},
   "outputs": [],
   "source": [
    "df['gender'].unique()"
   ]
  },
  {
   "cell_type": "markdown",
   "id": "2121183f",
   "metadata": {},
   "source": [
    "In the data, there is a number of unique responses in the 'year' column:"
   ]
  },
  {
   "cell_type": "code",
   "execution_count": null,
   "id": "1a5fea07",
   "metadata": {},
   "outputs": [],
   "source": [
    "num_unique_responses = df['year'].nunique()\n",
    "num_unique_responses"
   ]
  },
  {
   "cell_type": "code",
   "execution_count": null,
   "id": "695df1c9",
   "metadata": {},
   "outputs": [],
   "source": [
    "df['year'].unique()"
   ]
  },
  {
   "cell_type": "markdown",
   "id": "87147f2f",
   "metadata": {},
   "source": [
    "Now, we can standarize the year column: "
   ]
  },
  {
   "cell_type": "code",
   "execution_count": null,
   "id": "7da70ac3",
   "metadata": {},
   "outputs": [],
   "source": [
    "#START CODE \n",
    "def standardize_year(string):\n",
    "    \n",
    "    # Make the input all lowercase\n",
    "    string = string.lower()\n",
    "    \n",
    "    # Drop all whitespace\n",
    "    string = string.strip()\n",
    "    \n",
    "    #replace any occurences of 'first' with '1'\n",
    "    string = string.replace('first', '1')\n",
    "\n",
    "    #replace any occurences of 'second' with '2'\n",
    "    string = string.replace('second', '2')    \n",
    "\n",
    "    #replace any occurences of 'third' with '3'\n",
    "    string = string.replace('third', '3')    \n",
    "\n",
    "    #replace any occurences of 'fourth' with '4'\n",
    "    string = string.replace('fourth', '4')    \n",
    "\n",
    "    \n",
    "    #replace any occurences of 'fifth' with '5'\n",
    "    string = string.replace('fifth', '5')  \n",
    "\n",
    "    #replace any occurences of 'sixth' with '6'\n",
    "    string = string.replace('sixth', '6')    \n",
    "\n",
    "    #replace any occurences of 'freshman' with '1'\n",
    "    string = string.replace('freshman', '1')    \n",
    "\n",
    "    #replace any occurences of 'sophomore' with '2'\n",
    "    string = string.replace('sophomore', '2')    \n",
    "\n",
    "    #replace any occurences of 'junior' with '3'\n",
    "    string = string.replace('junior', '3')    \n",
    "\n",
    "    #replace any occurences of 'senior' with 4'\n",
    "    string = string.replace('senior', '4')    \n",
    "\n",
    "    #replace any occurences of 'year' with '' (remove it from the string)\n",
    "    string = string.replace('year', '')    \n",
    "\n",
    "    #replace any occurences of 'th' with '' (remove it from the string)\n",
    "    string = string.replace('th', '')    \n",
    "\n",
    "    #replace any occurences of 'rd' with '' (remove it from the string)\n",
    "    string = string.replace('rd', '')    \n",
    "\n",
    "    #replace any occurences of 'nd' with '' (remove it from the string)\n",
    "    string = string.replace('nd', '')    \n",
    "\n",
    "    #strip the string of all leading and trailing whitespace (again)\n",
    "    string = string.strip()\n",
    "\n",
    "    #If the resulting string is a number and it is less than 10, then cast it into an integer and return that value\n",
    "    # Cast to integer, if what's left seems appropriate\n",
    "    if string.isnumeric() and int(string) < 10:\n",
    "        out_put = int(string)\n",
    "        \n",
    "    #Else return np.nan to symbolize that the student's response was not a valid entry\n",
    "    else:\n",
    "        out_put = np.nan\n",
    "    \n",
    "    return out_put\n",
    "#END CODE "
   ]
  },
  {
   "cell_type": "code",
   "execution_count": null,
   "id": "5fb5122c",
   "metadata": {},
   "outputs": [],
   "source": [
    "df['year'].unique()"
   ]
  },
  {
   "cell_type": "code",
   "execution_count": null,
   "id": "c960446d",
   "metadata": {},
   "outputs": [],
   "source": [
    "df['year'] = df['year'].apply(standardize_year)"
   ]
  },
  {
   "cell_type": "markdown",
   "id": "20055052",
   "metadata": {},
   "source": [
    "What about weight? I can also standarize that column: "
   ]
  },
  {
   "cell_type": "code",
   "execution_count": null,
   "id": "fe12fa07",
   "metadata": {},
   "outputs": [],
   "source": [
    "df['weight'] = df['weight'].astype(str)"
   ]
  },
  {
   "cell_type": "code",
   "execution_count": null,
   "id": "052c06e6",
   "metadata": {},
   "outputs": [],
   "source": [
    "df['weight'].unique()"
   ]
  },
  {
   "cell_type": "code",
   "execution_count": null,
   "id": "8925992b",
   "metadata": {},
   "outputs": [],
   "source": [
    "def standardize_weight(string):\n",
    "    \n",
    "    #convert all characters of the string into lowercase\n",
    "    string = string.lower()\n",
    "    \n",
    "    #strip the string of all leading and trailing whitespace\n",
    "    string = string.strip()\n",
    "\n",
    "    #replace any occurences of 'lbs' with '' (remove it from the string)\n",
    "    string = string.replace('lbs', '')    \n",
    "\n",
    "    #replace any occurences of 'lb' with '' (remove it from the string)\n",
    "    string = string.replace('lb', '')    \n",
    "    \n",
    "    #replace any occurences of 'pounds' with '' (remove it from the string)\n",
    "    string = string.replace('pounds', '')    \n",
    "\n",
    "    if 'kg' in string:\n",
    "        string = string.replace('kg', '')\n",
    "        #strip the string of all leading and trailing whitespace\n",
    "        string = string.strip()\n",
    "        \n",
    "        #can keep string \n",
    "        string = float(string)\n",
    "        string = string * 2.2\n",
    "    try: \n",
    "        return int(string)\n",
    "    except:\n",
    "        return np.nan"
   ]
  },
  {
   "cell_type": "code",
   "execution_count": null,
   "id": "8ecf460c",
   "metadata": {},
   "outputs": [],
   "source": [
    "df['weight'] = df['weight'].apply(standardize_weight)"
   ]
  },
  {
   "cell_type": "code",
   "execution_count": null,
   "id": "cb76f6b5",
   "metadata": {},
   "outputs": [],
   "source": [
    "df['weight'].unique()"
   ]
  },
  {
   "cell_type": "markdown",
   "id": "9bce1709",
   "metadata": {},
   "source": [
    "Finall, the last column I want to standarize is height: "
   ]
  },
  {
   "cell_type": "code",
   "execution_count": null,
   "id": "2c0bb6b7",
   "metadata": {},
   "outputs": [],
   "source": [
    "# convert all values to inches\n",
    "def standardize_height(string):\n",
    "    \n",
    "    orig = string\n",
    "    output = None\n",
    "    \n",
    "    # Basic string pre-processing\n",
    "    string = string.lower()\n",
    "    string = string.strip()\n",
    "    \n",
    "    string = string.replace('foot', 'ft')\n",
    "    string = string.replace('feet', 'ft')\n",
    "    string = string.replace('inches', 'in')\n",
    "    string = string.replace('inch', 'in')\n",
    "    string = string.replace('meters', 'm')\n",
    "    string = string.replace('meter', 'm')\n",
    "    string = string.replace('centimeters', 'cm')\n",
    "    string = string.replace('centimeter', 'cm')\n",
    "    string = string.replace(',', '')\n",
    "    string = string.strip()\n",
    "    \n",
    "    # CASE 1: string is written in the format FEET <DIVIDER> INCHES\n",
    "    dividers = [\"'\", \"ft\", \"’\", '”', '\"','`', \"-\", \"''\"]\n",
    "    \n",
    "    for divider in dividers:\n",
    "        \n",
    "        # Split it into its elements\n",
    "        elements = string.split(divider)\n",
    "\n",
    "        # If the divider creates two elements\n",
    "        if (len(elements) >= 2) and ((len(string) -1) != string.find(divider)):\n",
    "            feet = elements[0]\n",
    "            inch = elements[1] if elements[1] is not '' else '0'\n",
    "            \n",
    "            # Cleaning extranious symbols\n",
    "            for symbol in dividers:\n",
    "                feet = feet.replace(symbol, '')\n",
    "                inch = inch.replace(symbol, '')\n",
    "                inch = inch.replace('in','')\n",
    "            \n",
    "            # Removing whitespace\n",
    "            feet = feet.strip()\n",
    "            inch = inch.strip()\n",
    "            \n",
    "            # By this point, we expect 'feet' and 'inch' to be numeric\n",
    "            # If not...we ignore this case\n",
    "            if feet.replace('.', '').isnumeric() and inch.replace('.', '').isnumeric():\n",
    "                \n",
    "                # Converting feet to inches and adding it to the current inches\n",
    "                output = (float(feet) * 12) + float(inch)\n",
    "                break\n",
    "            \n",
    "    # CASE 2: string is written in the format FEET ft INCHES in \n",
    "    if ('ft' in string) and ('in' in string):\n",
    "        \n",
    "        # Split it into its elements\n",
    "        elements = string.split('ft')\n",
    "        feet = elements[0]\n",
    "        inch = elements[1]\n",
    "        \n",
    "        # Removing extraneous symbols and stripping whitespace\n",
    "        inch = inch.replace('inch', '')\n",
    "        inch = inch.replace('in', '')\n",
    "        feet = feet.strip()\n",
    "        inch = inch.strip()\n",
    "        \n",
    "        # By this point, we expect 'feet' and 'inch' to be numeric\n",
    "        # If not...we ignore this case\n",
    "        if feet.replace('.', '').isnumeric() and inch.replace('.', '').isnumeric():\n",
    "                \n",
    "            # Converting feet to inches and adding it to the current inches\n",
    "            output = (float(feet) * 12) + float(inch)\n",
    "        \n",
    "    # CASE 3: answer was given ONLY in cm\n",
    "    #  Convert to inches: approximately 0.39 inches in a meter\n",
    "    elif 'cm' in string:\n",
    "        centimeters = string.replace('cm', '')\n",
    "        centimeters = centimeters.strip()\n",
    "        \n",
    "        if centimeters.replace('.', '').isnumeric():\n",
    "            output = float(centimeters) * 0.39\n",
    "        \n",
    "    # CASE 4: answer was given ONLY in meters\n",
    "    #  Convert to inches: approximately 39 inches in a meter\n",
    "    elif 'm' in string:\n",
    "        \n",
    "        meters = string.replace('m', '')\n",
    "        meters = meters.strip()\n",
    "        \n",
    "        if meters.replace('.', '').isnumeric():\n",
    "            output = float(meters)*39\n",
    "        \n",
    "    # CASE 5: answer was given ONLY in feet\n",
    "    elif 'ft' in string:\n",
    "\n",
    "        feet = string.replace('ft', '')\n",
    "        feet = feet.strip()\n",
    "        \n",
    "        if feet.replace('.', '').isnumeric():\n",
    "            output = float(feet)*12\n",
    "    \n",
    "    # CASE 6: answer was given ONLY in inches\n",
    "    elif 'in' in string:\n",
    "        inches = string.replace('in', '')\n",
    "        inches = inches.strip()\n",
    "        \n",
    "        if inches.replace('.', '').isnumeric():\n",
    "            output = float(inches)\n",
    "        \n",
    "    # CASE 7: answer not covered by existing scenarios / was invalid. \n",
    "    #  Return NaN\n",
    "    if not output:\n",
    "        output = np.nan\n",
    "\n",
    "    return output"
   ]
  },
  {
   "cell_type": "code",
   "execution_count": null,
   "id": "90bfcdfd",
   "metadata": {},
   "outputs": [],
   "source": [
    "# Applying the transformation and dropping invalid rows\n",
    "df['height'] = df['height'].apply(standardize_height)\n",
    "df = df.dropna(subset=['height'])"
   ]
  },
  {
   "cell_type": "code",
   "execution_count": null,
   "id": "670e30c9",
   "metadata": {},
   "outputs": [],
   "source": [
    "df['height'].unique()"
   ]
  },
  {
   "cell_type": "code",
   "execution_count": null,
   "id": "8a3b8581",
   "metadata": {},
   "outputs": [],
   "source": [
    "df['age'] = df['age'].astype(np.int64)\n",
    "df['age']"
   ]
  },
  {
   "cell_type": "markdown",
   "id": "781aeeac",
   "metadata": {},
   "source": [
    "# EDA"
   ]
  },
  {
   "cell_type": "code",
   "execution_count": null,
   "id": "ed3e1f3f",
   "metadata": {},
   "outputs": [],
   "source": [
    "fig = pd.plotting.scatter_matrix(df, alpha=0.2, figsize = (10,10))"
   ]
  },
  {
   "cell_type": "code",
   "execution_count": null,
   "id": "1a819de7",
   "metadata": {},
   "outputs": [],
   "source": [
    "plt.rcParams['figure.figsize'] = (20,20)\n",
    "ax = sns.countplot(x='major', data=df, color = 'brown')\n",
    "\n",
    "#add title: \n",
    "ax.set_title('Number Students in Each Major')\n",
    "#add y label \n",
    "ax.set_ylabel('Count')\n",
    "#add x label \n",
    "ax.set_xlabel('How comfortable are you with statistics?');\n",
    "ax.tick_params(axis='x', rotation=30)\n",
    "\n",
    "f1 = plt.gcf()"
   ]
  },
  {
   "cell_type": "markdown",
   "id": "4cb589e8",
   "metadata": {},
   "source": [
    "Below, I can also see a histogram of data responses from the dataframe: "
   ]
  },
  {
   "cell_type": "code",
   "execution_count": null,
   "id": "b0b4161b",
   "metadata": {},
   "outputs": [],
   "source": [
    "plt.rcParams['figure.figsize'] = (16,10) #default plot size to output\n",
    "sns.histplot(data = df, bins=30)\n",
    "f2 = plt.gcf()"
   ]
  },
  {
   "cell_type": "markdown",
   "id": "fd5fe5ca",
   "metadata": {},
   "source": [
    "What's the range of ages in the dataset? "
   ]
  },
  {
   "cell_type": "code",
   "execution_count": null,
   "id": "ab2d9a1b",
   "metadata": {},
   "outputs": [],
   "source": [
    "r_age = df['age'].max() - df['age'].min()\n",
    "print(\"The range of ages in the dataset are: \", r_age)"
   ]
  },
  {
   "cell_type": "markdown",
   "id": "de632d08",
   "metadata": {},
   "source": [
    "Lets save the height data for both cognitive science and computer science majors:"
   ]
  },
  {
   "cell_type": "code",
   "execution_count": null,
   "id": "e3147222",
   "metadata": {},
   "outputs": [],
   "source": [
    "h_co = df[(df.major == 'COGSCI')]['height']\n",
    "h_cs = df[(df.major == 'COMPSCI')]['height']"
   ]
  },
  {
   "cell_type": "code",
   "execution_count": null,
   "id": "8684eee4",
   "metadata": {},
   "outputs": [],
   "source": [
    "h_co.describe()"
   ]
  },
  {
   "cell_type": "code",
   "execution_count": null,
   "id": "66ed73e9",
   "metadata": {},
   "outputs": [],
   "source": [
    "h_cs.describe()"
   ]
  },
  {
   "cell_type": "code",
   "execution_count": null,
   "id": "a780bc44",
   "metadata": {},
   "outputs": [],
   "source": [
    "avg_h_co = h_co.agg('mean')\n",
    "avg_h_co"
   ]
  },
  {
   "cell_type": "code",
   "execution_count": null,
   "id": "819a67de",
   "metadata": {},
   "outputs": [],
   "source": [
    "avg_h_cs = h_cs.agg('mean')\n",
    "avg_h_cs"
   ]
  },
  {
   "cell_type": "code",
   "execution_count": null,
   "id": "89debc95",
   "metadata": {},
   "outputs": [],
   "source": [
    "print('Average height of cogs majors is \\t {:2.2f} inches'.format(avg_h_co))\n",
    "print('Average height of cs majors is \\t\\t {:2.2f} inches'.format(avg_h_cs))"
   ]
  },
  {
   "cell_type": "markdown",
   "id": "d8ba542b",
   "metadata": {},
   "source": [
    "I want to use the `ttest_ind` function) to compare the two height distributions (`h_co` vs `h_cs`)\n",
    "\n",
    "`ttest_ind` returns a t-statistic, and a p-value. Save these outputs to `t_val` and `p_val` respectively. "
   ]
  },
  {
   "cell_type": "code",
   "execution_count": null,
   "id": "0500ff7c",
   "metadata": {},
   "outputs": [],
   "source": [
    "t_val, p_val = stats.ttest_ind(h_co, h_cs)"
   ]
  },
  {
   "cell_type": "code",
   "execution_count": null,
   "id": "d5714d09",
   "metadata": {},
   "outputs": [],
   "source": [
    "if p_val < 0.01:\n",
    "    print('Data Science accomplished, there is a significant difference!')\n",
    "else:\n",
    "    print('There is NOT a significant difference!')"
   ]
  },
  {
   "cell_type": "markdown",
   "id": "7091bb5f",
   "metadata": {},
   "source": [
    "#Save the counts for each gender for 'COGSCI' amd 'OCMPSCI' majors: "
   ]
  },
  {
   "cell_type": "code",
   "execution_count": null,
   "id": "f137cd2f",
   "metadata": {},
   "outputs": [],
   "source": [
    "#Save the counts for each gender for 'COGSCI' majors to a variable called g_co\n",
    "g_co = df[(df.major == 'COGSCI')]['gender'].value_counts()\n",
    "#Save the counts for each gender for 'COMPSCI' majors to a variable called g_cs\n",
    "g_cs = df[(df.major == 'COMPSCI')]['gender'].value_counts()"
   ]
  },
  {
   "cell_type": "markdown",
   "id": "a9d4217d",
   "metadata": {},
   "source": [
    "Ratio of women in Cognitive Science and Computer Science majors:"
   ]
  },
  {
   "cell_type": "code",
   "execution_count": null,
   "id": "3fe0496c",
   "metadata": {},
   "outputs": [],
   "source": [
    "r_co = g_co['female']\n",
    "r_cs = g_cs['female']\n",
    "print(r_co,r_cs )"
   ]
  },
  {
   "cell_type": "code",
   "execution_count": null,
   "id": "b0c5ce78",
   "metadata": {},
   "outputs": [],
   "source": [
    "chisq, p_val_chi = stats.chisquare(np.array([g_co.values, g_cs.values]), axis=None)\n",
    "\n",
    "if p_val_chi < 0.01:\n",
    "    print('There is a significant difference in ratios!')"
   ]
  },
  {
   "cell_type": "markdown",
   "id": "a67315d1",
   "metadata": {},
   "source": [
    "Now I want to create a linear model which predicts height from majors. To do this I created a new dataframe containing only the majors of cognitive and computer science"
   ]
  },
  {
   "cell_type": "code",
   "execution_count": null,
   "id": "e17788ab",
   "metadata": {},
   "outputs": [],
   "source": [
    "df2 = df[(df['major'] == 'COGSCI') | (df['major'] == 'COMPSCI')]"
   ]
  },
  {
   "cell_type": "code",
   "execution_count": null,
   "id": "21b0b413",
   "metadata": {},
   "outputs": [],
   "source": [
    "df2"
   ]
  },
  {
   "cell_type": "code",
   "execution_count": null,
   "id": "8a71c1ef",
   "metadata": {},
   "outputs": [],
   "source": [
    "#create the design matrices \n",
    "outcome_1, predictors_1 = patsy.dmatrices('height ~ major', df2)\n",
    "#create the OLS model \n",
    "mod_1 = sm.OLS(outcome_1, predictors_1)\n",
    "#fit the model \n",
    "res_1 = mod_1.fit()"
   ]
  },
  {
   "cell_type": "code",
   "execution_count": null,
   "id": "12b9fbdc",
   "metadata": {},
   "outputs": [],
   "source": [
    "print(res_1.summary())"
   ]
  }
 ],
 "metadata": {
  "kernelspec": {
   "display_name": "Python 3 (ipykernel)",
   "language": "python",
   "name": "python3"
  },
  "language_info": {
   "codemirror_mode": {
    "name": "ipython",
    "version": 3
   },
   "file_extension": ".py",
   "mimetype": "text/x-python",
   "name": "python",
   "nbconvert_exporter": "python",
   "pygments_lexer": "ipython3",
   "version": "3.9.5"
  }
 },
 "nbformat": 4,
 "nbformat_minor": 5
}
